{
 "cells": [
  {
   "cell_type": "code",
   "execution_count": 1,
   "metadata": {},
   "outputs": [],
   "source": [
    "def is_prime(n):\n",
    "    if n <= 1:\n",
    "        return False\n",
    "    if n <= 3:\n",
    "        return True\n",
    "    if n % 2 == 0 or n % 3 == 0:\n",
    "        return False\n",
    "    i = 5\n",
    "    while i * i <= n:\n",
    "        if n % i == 0 or n % (i + 2) == 0:\n",
    "            return False\n",
    "        i += 6\n",
    "    return True"
   ]
  },
  {
   "cell_type": "code",
   "execution_count": 3,
   "metadata": {},
   "outputs": [
    {
     "name": "stdout",
     "output_type": "stream",
     "text": [
      "\n",
      "Hello, Faizan! Let's explore your favorite numbers:\n",
      "The number 7 is odd.\n",
      "The number 16 is even.\n",
      "The number 1999 is odd.\n",
      "The number 7 and its square: (7, 49)\n",
      "The number 16 and its square: (16, 256)\n",
      "The number 1999 and its square: (1999, 3996001)\n",
      "\n",
      "Amazing! The sum of your favorite numbers is: 2022\n",
      "The sum 2022 is not a prime number.\n"
     ]
    }
   ],
   "source": [
    "def main():\n",
    "   \n",
    "    name = input(\"Enter your name: \")\n",
    "    num1 = int(input(\"Enter your first favorite number: \"))\n",
    "    num2 = int(input(\"Enter your second favorite number: \"))\n",
    "    num3 = int(input(\"Enter your third favorite number: \"))\n",
    "\n",
    "   \n",
    "    favorite_numbers = [num1, num2, num3]\n",
    "\n",
    "   \n",
    "    print(f\"\\nHello, {name}! Let's explore your favorite numbers:\")\n",
    "\n",
    "    \n",
    "    even_odd_list = [(num, \"even\" if num % 2 == 0 else \"odd\") for num in favorite_numbers]\n",
    "    for num, parity in even_odd_list:\n",
    "        print(f\"The number {num} is {parity}.\")\n",
    "\n",
    "   \n",
    "    for num in favorite_numbers:\n",
    "        square_tuple = (num, num**2)\n",
    "        print(f\"The number {num} and its square: {square_tuple}\")\n",
    "\n",
    "    \n",
    "    total_sum = sum(favorite_numbers)\n",
    "    print(f\"\\nAmazing! The sum of your favorite numbers is: {total_sum}\")\n",
    "\n",
    "    \n",
    "    if is_prime(total_sum):\n",
    "        print(f\"Wow, {total_sum} is a prime number!\")\n",
    "    else:\n",
    "        print(f\"The sum {total_sum} is not a prime number.\")\n",
    "\n",
    "if __name__ == \"__main__\":\n",
    "    main()\n"
   ]
  }
 ],
 "metadata": {
  "kernelspec": {
   "display_name": "Python 3",
   "language": "python",
   "name": "python3"
  },
  "language_info": {
   "codemirror_mode": {
    "name": "ipython",
    "version": 3
   },
   "file_extension": ".py",
   "mimetype": "text/x-python",
   "name": "python",
   "nbconvert_exporter": "python",
   "pygments_lexer": "ipython3",
   "version": "3.6.5"
  }
 },
 "nbformat": 4,
 "nbformat_minor": 2
}
